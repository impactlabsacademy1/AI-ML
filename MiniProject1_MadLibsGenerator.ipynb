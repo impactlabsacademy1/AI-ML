{
  "nbformat": 4,
  "nbformat_minor": 0,
  "metadata": {
    "colab": {
      "provenance": [],
      "authorship_tag": "ABX9TyMnbGK1JqNpEVva5QDVCt8x",
      "include_colab_link": true
    },
    "kernelspec": {
      "name": "python3",
      "display_name": "Python 3"
    },
    "language_info": {
      "name": "python"
    }
  },
  "cells": [
    {
      "cell_type": "markdown",
      "metadata": {
        "id": "view-in-github",
        "colab_type": "text"
      },
      "source": [
        "<a href=\"https://colab.research.google.com/github/impactlabsacademy1/AI-ML/blob/main/MiniProject1_MadLibsGenerator.ipynb\" target=\"_parent\"><img src=\"https://colab.research.google.com/assets/colab-badge.svg\" alt=\"Open In Colab\"/></a>"
      ]
    },
    {
      "cell_type": "markdown",
      "source": [
        "### This is my simple version of the game- Mad Libs Generator."
      ],
      "metadata": {
        "id": "tXjuw50GUmPH"
      }
    },
    {
      "cell_type": "code",
      "source": [
        "def madlibs():\n",
        "\n",
        "  # Get user input\n",
        "  adjective1 = input(\"Enter an adjective: \")\n",
        "  verb1 = input(\"Enter a verb: \")\n",
        "  noun1 = input(\"Enter a noun: \")\n",
        "  adjective2 = input(\"Enter another adjective: \")\n",
        "  adjective3 = input(\"Enter another adjective: \")\n",
        "\n",
        "  # I changed it\n",
        "\n",
        "  # Write your story\n",
        "  story = f\"\"\"\n",
        "  This weekend I want to visit a {adjective1} park 🏞️ and do {verb1}.\n",
        "  I also want to color my {noun1} {adjective2}.\n",
        "  Thank you for listening to my {adjective3} story.\n",
        "  What a day! 😅\n",
        "  \"\"\"\n",
        "  # Print the story\n",
        "  print(story)\n",
        "\n",
        "madlibs()"
      ],
      "metadata": {
        "colab": {
          "base_uri": "https://localhost:8080/"
        },
        "id": "EmxxoyalUt3z",
        "outputId": "6d77e068-acc3-4cfe-ffbe-f70e931feca1"
      },
      "execution_count": null,
      "outputs": [
        {
          "output_type": "stream",
          "name": "stdout",
          "text": [
            "Enter an adjective: scary\n",
            "Enter a verb: jumping\n",
            "Enter a noun: Austin\n",
            "Enter another adjective: cheerful\n",
            "Enter another adjective: brilliant\n",
            "\n",
            "  This weekend I want to visit a scary park 🏞️ and do jumping.  \n",
            "  I also want to color my Austin cheerful.\n",
            "  Thank you for listening to my brilliant story.  \n",
            "  What a day! 😅\n",
            "  \n"
          ]
        }
      ]
    }
  ]
}