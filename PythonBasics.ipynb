{
  "nbformat": 4,
  "nbformat_minor": 0,
  "metadata": {
    "colab": {
      "provenance": [],
      "authorship_tag": "ABX9TyOZvf2sCDrG2BU7DJYDVVVL",
      "include_colab_link": true
    },
    "kernelspec": {
      "name": "python3",
      "display_name": "Python 3"
    },
    "language_info": {
      "name": "python"
    }
  },
  "cells": [
    {
      "cell_type": "markdown",
      "metadata": {
        "id": "view-in-github",
        "colab_type": "text"
      },
      "source": [
        "<a href=\"https://colab.research.google.com/github/impactlabsacademy1/AI-ML/blob/main/PythonBasics.ipynb\" target=\"_parent\"><img src=\"https://colab.research.google.com/assets/colab-badge.svg\" alt=\"Open In Colab\"/></a>"
      ]
    },
    {
      "cell_type": "markdown",
      "source": [
        "# Outline\n",
        "\n",
        "Week 1. First Steps with Python: Students will learn the basics of Python, including variables, data types, and simple input/output. They will build their first interactive program, culminating in a fun \"Mad Libs\" generator mini-project.\n",
        "\n",
        "Week 2. Control Flow, Logic, Functions, Data Structures: Students will learn the core logic of programming through conditional statements and loops. They will also learn to write reusable blocks of code with functions and use complex data structures like lists, dictionaries, and tuples. They will use these concepts to create a Number Guessing or a Tic-Tac-Toe game."
      ],
      "metadata": {
        "id": "k42Pyq2oNYZ_"
      }
    },
    {
      "cell_type": "code",
      "source": [
        "print(\"Hello World\")"
      ],
      "metadata": {
        "colab": {
          "base_uri": "https://localhost:8080/"
        },
        "id": "T_07BultNbf2",
        "outputId": "ee2a8a51-a9bb-427a-9ffd-be04d2690f76"
      },
      "execution_count": 1,
      "outputs": [
        {
          "output_type": "stream",
          "name": "stdout",
          "text": [
            "Hello World\n"
          ]
        }
      ]
    },
    {
      "cell_type": "code",
      "source": [
        "# Anything here will not be displayed"
      ],
      "metadata": {
        "id": "3UZ02ZFAN9kw"
      },
      "execution_count": 2,
      "outputs": []
    },
    {
      "cell_type": "code",
      "source": [
        "name = \"Alex\"      # String\n",
        "age = 16           # Integer\n",
        "height = 5.5       # Float\n",
        "is_student = True  # Boolean\n",
        "\n",
        "print(\"Name:\", name)\n",
        "print(\"Age:\", age)\n",
        "print(\"Height:\", height)\n",
        "print(is_student)"
      ],
      "metadata": {
        "colab": {
          "base_uri": "https://localhost:8080/"
        },
        "id": "d56qh9VROChA",
        "outputId": "d1dabbde-4fec-4ef4-f733-6c74f9620ea8"
      },
      "execution_count": 4,
      "outputs": [
        {
          "output_type": "stream",
          "name": "stdout",
          "text": [
            "Name: Alex\n",
            "Age: 16\n",
            "Height: 5.5\n",
            "True\n"
          ]
        }
      ]
    },
    {
      "cell_type": "code",
      "source": [
        "print(f\"My name is {name} and my age is {age}\")\n"
      ],
      "metadata": {
        "colab": {
          "base_uri": "https://localhost:8080/"
        },
        "id": "etHPWl3xOfkX",
        "outputId": "67abe2f5-a9f3-4229-f2d6-f74e409dd92f"
      },
      "execution_count": 6,
      "outputs": [
        {
          "output_type": "stream",
          "name": "stdout",
          "text": [
            "My name is Alex and my age is 16\n"
          ]
        }
      ]
    },
    {
      "cell_type": "code",
      "source": [
        "type(is_student)"
      ],
      "metadata": {
        "colab": {
          "base_uri": "https://localhost:8080/"
        },
        "id": "eet2dcMMO0Hh",
        "outputId": "d7f46dee-e785-4501-8346-996f44f24b6b"
      },
      "execution_count": 7,
      "outputs": [
        {
          "output_type": "execute_result",
          "data": {
            "text/plain": [
              "bool"
            ]
          },
          "metadata": {},
          "execution_count": 7
        }
      ]
    },
    {
      "cell_type": "code",
      "source": [
        "likes_pizza = True\n",
        "finished_homework = False\n",
        "print(f\"Boolean examples: Likes pizza? {likes_pizza}, Homework done? {finished_homework}\")\n",
        "print(f\"Type: {type(likes_pizza)}\")\n",
        "print()"
      ],
      "metadata": {
        "colab": {
          "base_uri": "https://localhost:8080/"
        },
        "id": "EVXvglNiO7At",
        "outputId": "3e4b301d-ae29-4707-9c2e-e101db89d38a"
      },
      "execution_count": 8,
      "outputs": [
        {
          "output_type": "stream",
          "name": "stdout",
          "text": [
            "Boolean examples: Likes pizza? True, Homework done? False\n",
            "Type: <class 'bool'>\n",
            "\n"
          ]
        }
      ]
    },
    {
      "cell_type": "code",
      "source": [
        "math_score = 85\n",
        "science_score = 92\n",
        "english_score = 78\n",
        "\n",
        "average_score = (math_score + science_score + english_score) / 3\n",
        "print(f\"Average Score: {average_score}\")"
      ],
      "metadata": {
        "colab": {
          "base_uri": "https://localhost:8080/"
        },
        "id": "smoFoVjnPF59",
        "outputId": "e87b2fb3-7237-477e-a7eb-8cb4526777b8"
      },
      "execution_count": 9,
      "outputs": [
        {
          "output_type": "stream",
          "name": "stdout",
          "text": [
            "Average Score: 85.0\n"
          ]
        }
      ]
    },
    {
      "cell_type": "code",
      "source": [
        "print(\"Basic math:\")\n",
        "print(\"2 + 3 =\", 2 + 3)\n",
        "print(\"10 / 2 =\", 10 / 2)\n",
        "print(\"Exponent: 2 ** 3 =\", 2 ** 3)"
      ],
      "metadata": {
        "colab": {
          "base_uri": "https://localhost:8080/"
        },
        "id": "THf6alIVPnid",
        "outputId": "ec5cea12-27f1-48db-dfef-9372ffa9a382"
      },
      "execution_count": 10,
      "outputs": [
        {
          "output_type": "stream",
          "name": "stdout",
          "text": [
            "Basic math:\n",
            "2 + 3 = 5\n",
            "10 / 2 = 5.0\n",
            "Exponent: 2 ** 3 = 8\n"
          ]
        }
      ]
    },
    {
      "cell_type": "code",
      "source": [
        "first_name = \"Jordon\"\n",
        "last_name = \"Smith\"\n",
        "full_name = first_name + \" \" + last_name\n",
        "print(full_name)"
      ],
      "metadata": {
        "colab": {
          "base_uri": "https://localhost:8080/"
        },
        "id": "Jf0TH9ngP0a5",
        "outputId": "9412bbae-3b86-43c6-f524-1e2b241c1c04"
      },
      "execution_count": 11,
      "outputs": [
        {
          "output_type": "stream",
          "name": "stdout",
          "text": [
            "Jordon Smith\n"
          ]
        }
      ]
    },
    {
      "cell_type": "code",
      "source": [
        "full_name.upper()"
      ],
      "metadata": {
        "colab": {
          "base_uri": "https://localhost:8080/",
          "height": 35
        },
        "id": "LEx55ROlQAm1",
        "outputId": "e289ab1b-8c63-426f-9438-c2640e8f1c0b"
      },
      "execution_count": 12,
      "outputs": [
        {
          "output_type": "execute_result",
          "data": {
            "text/plain": [
              "'JORDON SMITH'"
            ],
            "application/vnd.google.colaboratory.intrinsic+json": {
              "type": "string"
            }
          },
          "metadata": {},
          "execution_count": 12
        }
      ]
    },
    {
      "cell_type": "code",
      "source": [
        "full_name.lower()"
      ],
      "metadata": {
        "colab": {
          "base_uri": "https://localhost:8080/",
          "height": 35
        },
        "id": "B8J1wRUiQHeA",
        "outputId": "67fdd9b0-596f-4c5d-d6cc-1849490f85cd"
      },
      "execution_count": 13,
      "outputs": [
        {
          "output_type": "execute_result",
          "data": {
            "text/plain": [
              "'jordon smith'"
            ],
            "application/vnd.google.colaboratory.intrinsic+json": {
              "type": "string"
            }
          },
          "metadata": {},
          "execution_count": 13
        }
      ]
    },
    {
      "cell_type": "code",
      "source": [
        "len(full_name)"
      ],
      "metadata": {
        "colab": {
          "base_uri": "https://localhost:8080/"
        },
        "id": "eQ093Jm1QKNS",
        "outputId": "42f8d35b-0fab-4bb7-a718-fd5dcb6cf35c"
      },
      "execution_count": 14,
      "outputs": [
        {
          "output_type": "execute_result",
          "data": {
            "text/plain": [
              "12"
            ]
          },
          "metadata": {},
          "execution_count": 14
        }
      ]
    },
    {
      "cell_type": "code",
      "source": [
        "my_name = input(\"What is your name? \")\n",
        "print(f\"Hello, {my_name}!\")\n",
        "print(my_name)"
      ],
      "metadata": {
        "colab": {
          "base_uri": "https://localhost:8080/"
        },
        "id": "ZdRxd7awQgC1",
        "outputId": "57ad1002-a8b5-4b20-c0e3-a87d99b73097"
      },
      "execution_count": 15,
      "outputs": [
        {
          "output_type": "stream",
          "name": "stdout",
          "text": [
            "What is your name? Vinitha\n",
            "Hello, Vinitha!\n",
            "Vinitha\n"
          ]
        }
      ]
    },
    {
      "cell_type": "code",
      "source": [
        "your_age = int(input(\"Enter your age?\"))\n",
        "print(integer_input)"
      ],
      "metadata": {
        "colab": {
          "base_uri": "https://localhost:8080/"
        },
        "id": "y5bRgR23Q0U6",
        "outputId": "01772359-1838-461e-8b94-6e11efd0e720"
      },
      "execution_count": 21,
      "outputs": [
        {
          "output_type": "stream",
          "name": "stdout",
          "text": [
            "Enter your age?30\n",
            "30\n"
          ]
        }
      ]
    },
    {
      "cell_type": "code",
      "source": [
        "print(f\"Hi {my_name}! In 10 years, you'll be {your_age + 10} years old.\")"
      ],
      "metadata": {
        "colab": {
          "base_uri": "https://localhost:8080/"
        },
        "id": "_mwwnx6jRZLT",
        "outputId": "653ee5b4-091e-451d-a522-7bf7cb5f20f7"
      },
      "execution_count": 22,
      "outputs": [
        {
          "output_type": "stream",
          "name": "stdout",
          "text": [
            "Hi Vinitha! In 10 years, you'll be 40 years old.\n"
          ]
        }
      ]
    },
    {
      "cell_type": "code",
      "source": [
        "score = 95\n",
        "message = 'Your score is ' + str(score)\n",
        "print(message)"
      ],
      "metadata": {
        "colab": {
          "base_uri": "https://localhost:8080/"
        },
        "id": "UNO-7TBiRqZW",
        "outputId": "2162ffce-2b32-45c0-9956-d79faac86b93"
      },
      "execution_count": 24,
      "outputs": [
        {
          "output_type": "stream",
          "name": "stdout",
          "text": [
            "Your score is 95\n"
          ]
        }
      ]
    },
    {
      "cell_type": "code",
      "source": [
        "student_name = \"Alex\"\n",
        "print(student_name)"
      ],
      "metadata": {
        "colab": {
          "base_uri": "https://localhost:8080/"
        },
        "id": "Ba6SmqThSgRh",
        "outputId": "fbd7a0b4-5014-45ec-d758-df64170b580c"
      },
      "execution_count": 26,
      "outputs": [
        {
          "output_type": "stream",
          "name": "stdout",
          "text": [
            "Alex\n"
          ]
        }
      ]
    },
    {
      "cell_type": "code",
      "source": [],
      "metadata": {
        "id": "ZM_CFSkhS0qV"
      },
      "execution_count": null,
      "outputs": []
    },
    {
      "cell_type": "markdown",
      "source": [
        "Yesterday, I saw a <adjective>___purple_________ elephant <verb> ______flying_________ down the street."
      ],
      "metadata": {
        "id": "8_WXw_DLS62n"
      }
    },
    {
      "cell_type": "code",
      "source": [
        "def say_hello():\n",
        "  print(\"Hello there!\")\n",
        "  print(\"Welcome to my home\")\n",
        "\n",
        "\n",
        "say_hello()\n"
      ],
      "metadata": {
        "colab": {
          "base_uri": "https://localhost:8080/"
        },
        "id": "kTGsaTn1TPtv",
        "outputId": "bdb64dc1-014b-473a-a315-0a822f921dac"
      },
      "execution_count": 27,
      "outputs": [
        {
          "output_type": "stream",
          "name": "stdout",
          "text": [
            "Hello there!\n",
            "Welcome to my home\n"
          ]
        }
      ]
    },
    {
      "cell_type": "code",
      "source": [],
      "metadata": {
        "id": "cHtI5_G4UZmm"
      },
      "execution_count": 28,
      "outputs": []
    }
  ]
}