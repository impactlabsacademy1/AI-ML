{
  "nbformat": 4,
  "nbformat_minor": 0,
  "metadata": {
    "colab": {
      "provenance": [],
      "authorship_tag": "ABX9TyN7zTYqKYP9b3EKPkFtPAJC",
      "include_colab_link": true
    },
    "kernelspec": {
      "name": "python3",
      "display_name": "Python 3"
    },
    "language_info": {
      "name": "python"
    }
  },
  "cells": [
    {
      "cell_type": "markdown",
      "metadata": {
        "id": "view-in-github",
        "colab_type": "text"
      },
      "source": [
        "<a href=\"https://colab.research.google.com/github/impactlabsacademy1/AI-ML/blob/main/PythonBasics.ipynb\" target=\"_parent\"><img src=\"https://colab.research.google.com/assets/colab-badge.svg\" alt=\"Open In Colab\"/></a>"
      ]
    },
    {
      "cell_type": "markdown",
      "source": [
        "# Outline\n",
        "\n",
        "Week 1. First Steps with Python: Students will learn the basics of Python, including variables, data types, and simple input/output. They will build their first interactive program, culminating in a fun \"Mad Libs\" generator mini-project.\n",
        "\n",
        "Week 2. Control Flow, Logic, Functions, Data Structures: Students will learn the core logic of programming through conditional statements and loops. They will also learn to write reusable blocks of code with functions and use complex data structures like lists, dictionaries, and tuples. They will use these concepts to create a Number Guessing or a Tic-Tac-Toe game."
      ],
      "metadata": {
        "id": "k42Pyq2oNYZ_"
      }
    },
    {
      "cell_type": "code",
      "source": [
        "print(\"Hello World\")"
      ],
      "metadata": {
        "id": "T_07BultNbf2"
      },
      "execution_count": null,
      "outputs": []
    },
    {
      "cell_type": "code",
      "source": [
        "# Anything here will not be displayed"
      ],
      "metadata": {
        "id": "3UZ02ZFAN9kw"
      },
      "execution_count": null,
      "outputs": []
    },
    {
      "cell_type": "code",
      "source": [
        "name = \"Alex\"      # String\n",
        "age = 16           # Integer\n",
        "height = 5.5       # Float\n",
        "is_student = True  # Boolean\n",
        "\n",
        "print(\"Name:\", name)\n",
        "print(\"Age:\", age)\n",
        "print(\"Height:\", height)\n",
        "print(is_student)"
      ],
      "metadata": {
        "id": "d56qh9VROChA"
      },
      "execution_count": null,
      "outputs": []
    },
    {
      "cell_type": "code",
      "source": [
        "print(f\"My name is {name} and my age is {age}\")\n"
      ],
      "metadata": {
        "id": "etHPWl3xOfkX"
      },
      "execution_count": null,
      "outputs": []
    },
    {
      "cell_type": "code",
      "source": [
        "type(is_student)"
      ],
      "metadata": {
        "id": "eet2dcMMO0Hh"
      },
      "execution_count": null,
      "outputs": []
    },
    {
      "cell_type": "code",
      "source": [
        "likes_pizza = True\n",
        "finished_homework = False\n",
        "print(f\"Boolean examples: Likes pizza? {likes_pizza}, Homework done? {finished_homework}\")\n",
        "print(f\"Type: {type(likes_pizza)}\")\n",
        "print()"
      ],
      "metadata": {
        "id": "EVXvglNiO7At"
      },
      "execution_count": null,
      "outputs": []
    },
    {
      "cell_type": "code",
      "source": [
        "math_score = 85\n",
        "science_score = 92\n",
        "english_score = 78\n",
        "\n",
        "average_score = (math_score + science_score + english_score) / 3\n",
        "print(f\"Average Score: {average_score}\")"
      ],
      "metadata": {
        "id": "smoFoVjnPF59"
      },
      "execution_count": null,
      "outputs": []
    },
    {
      "cell_type": "code",
      "source": [
        "print(\"Basic math:\")\n",
        "print(\"2 + 3 =\", 2 + 3)\n",
        "print(\"10 / 2 =\", 10 / 2)\n",
        "print(\"Exponent: 2 ** 3 =\", 2 ** 3)"
      ],
      "metadata": {
        "id": "THf6alIVPnid"
      },
      "execution_count": null,
      "outputs": []
    },
    {
      "cell_type": "code",
      "source": [
        "first_name = \"Jordon\"\n",
        "last_name = \"Smith\"\n",
        "full_name = first_name + \" \" + last_name\n",
        "print(full_name)"
      ],
      "metadata": {
        "id": "Jf0TH9ngP0a5"
      },
      "execution_count": null,
      "outputs": []
    },
    {
      "cell_type": "code",
      "source": [
        "full_name.upper()"
      ],
      "metadata": {
        "id": "LEx55ROlQAm1"
      },
      "execution_count": null,
      "outputs": []
    },
    {
      "cell_type": "code",
      "source": [
        "full_name.lower()"
      ],
      "metadata": {
        "id": "B8J1wRUiQHeA"
      },
      "execution_count": null,
      "outputs": []
    },
    {
      "cell_type": "code",
      "source": [
        "len(full_name)"
      ],
      "metadata": {
        "id": "eQ093Jm1QKNS"
      },
      "execution_count": null,
      "outputs": []
    },
    {
      "cell_type": "code",
      "source": [
        "my_name = input(\"What is your name? \")\n",
        "print(f\"Hello, {my_name}!\")\n",
        "print(my_name)"
      ],
      "metadata": {
        "id": "ZdRxd7awQgC1"
      },
      "execution_count": null,
      "outputs": []
    },
    {
      "cell_type": "code",
      "source": [
        "your_age = int(input(\"Enter your age?\"))\n",
        "print(integer_input)"
      ],
      "metadata": {
        "id": "y5bRgR23Q0U6"
      },
      "execution_count": null,
      "outputs": []
    },
    {
      "cell_type": "code",
      "source": [
        "print(f\"Hi {my_name}! In 10 years, you'll be {your_age + 10} years old.\")"
      ],
      "metadata": {
        "id": "_mwwnx6jRZLT"
      },
      "execution_count": null,
      "outputs": []
    },
    {
      "cell_type": "code",
      "source": [
        "score = 95\n",
        "message = 'Your score is ' + str(score)\n",
        "print(message)"
      ],
      "metadata": {
        "id": "UNO-7TBiRqZW"
      },
      "execution_count": null,
      "outputs": []
    },
    {
      "cell_type": "code",
      "source": [
        "student_name = \"Alex\"\n",
        "print(student_name)"
      ],
      "metadata": {
        "id": "Ba6SmqThSgRh"
      },
      "execution_count": null,
      "outputs": []
    },
    {
      "cell_type": "code",
      "source": [],
      "metadata": {
        "id": "ZM_CFSkhS0qV"
      },
      "execution_count": null,
      "outputs": []
    },
    {
      "cell_type": "markdown",
      "source": [
        "Yesterday, I saw a <adjective>___purple_________ elephant <verb> ______flying_________ down the street."
      ],
      "metadata": {
        "id": "8_WXw_DLS62n"
      }
    },
    {
      "cell_type": "code",
      "source": [
        "def say_hello():\n",
        "  print(\"Hello there!\")\n",
        "  print(\"Welcome to my home\")\n",
        "\n",
        "\n",
        "say_hello()\n"
      ],
      "metadata": {
        "id": "kTGsaTn1TPtv"
      },
      "execution_count": null,
      "outputs": []
    },
    {
      "cell_type": "code",
      "source": [
        "# Basic if statement\n",
        "\n",
        "age = int(input(\"Enter your age?\"))\n",
        "\n",
        "if age >= 18:\n",
        "    print(\"You can vote! 🗳️\")\n",
        "elif age < 0:\n",
        "    print(\"That is not a correct age\")\n",
        "else:\n",
        "    print(\"Not old enough to vote yet!\")\n",
        "\n",
        "print(f\"\"\"\n",
        "You are {age} years old\n",
        "\"\"\")\n"
      ],
      "metadata": {
        "id": "cHtI5_G4UZmm",
        "colab": {
          "base_uri": "https://localhost:8080/"
        },
        "outputId": "975ab702-f03d-4d3c-d155-ad1690ee6a00"
      },
      "execution_count": 19,
      "outputs": [
        {
          "output_type": "stream",
          "name": "stdout",
          "text": [
            "Enter your age?19\n",
            "You can vote! 🗳️\n",
            "\n",
            "You are 19 years old \n",
            "\n"
          ]
        }
      ]
    },
    {
      "cell_type": "code",
      "source": [
        "# FOR LOOP: When you know how many times to repeat\n",
        "print(\"FOR LOOP: Counting from 1 to 5\")\n",
        "for i in range(1, 6):\n",
        "    print(\"Count:\", i)"
      ],
      "metadata": {
        "colab": {
          "base_uri": "https://localhost:8080/"
        },
        "id": "p3IBY1Ptq1xP",
        "outputId": "0f8432ed-d229-4a13-efe2-1d784b98b2f1"
      },
      "execution_count": 20,
      "outputs": [
        {
          "output_type": "stream",
          "name": "stdout",
          "text": [
            "FOR LOOP: Counting from 1 to 5\n",
            "Count: 1\n",
            "Count: 2\n",
            "Count: 3\n",
            "Count: 4\n",
            "Count: 5\n"
          ]
        }
      ]
    }
  ]
}